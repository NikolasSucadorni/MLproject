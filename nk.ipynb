import pandas as pd

df = pd.read_csv("pizzas.csv")
df

import matplotlib as plt
df.plot(kind="scatter", x="diametro", y="preco");

import sklearn
from sklearn import linear_model

modelo = linear_model.LinearRegression()
x = df[["diametro"]]
y = df[["preco"]]

modelo.fit(x, y)

print(modelo.predict([[]])[0][0])
